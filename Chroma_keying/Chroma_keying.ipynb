{
 "cells": [
  {
   "cell_type": "code",
   "execution_count": 1,
   "id": "1fe4ca37",
   "metadata": {},
   "outputs": [
    {
     "name": "stdout",
     "output_type": "stream",
     "text": [
      "[[[166 166 166]\n",
      "  [166 166 166]\n",
      "  [166 166 166]\n",
      "  ...\n",
      "  [168 168 168]\n",
      "  [168 168 168]\n",
      "  [168 168 168]]\n",
      "\n",
      " [[166 166 166]\n",
      "  [166 166 166]\n",
      "  [166 166 166]\n",
      "  ...\n",
      "  [168 168 168]\n",
      "  [168 168 168]\n",
      "  [168 168 168]]\n",
      "\n",
      " [[166 166 166]\n",
      "  [166 166 166]\n",
      "  [166 166 166]\n",
      "  ...\n",
      "  [168 168 168]\n",
      "  [168 168 168]\n",
      "  [168 168 168]]\n",
      "\n",
      " ...\n",
      "\n",
      " [[164 164 164]\n",
      "  [164 164 164]\n",
      "  [164 164 164]\n",
      "  ...\n",
      "  [168 168 168]\n",
      "  [168 168 168]\n",
      "  [168 168 168]]\n",
      "\n",
      " [[164 164 164]\n",
      "  [164 164 164]\n",
      "  [164 164 164]\n",
      "  ...\n",
      "  [168 168 168]\n",
      "  [168 168 168]\n",
      "  [168 168 168]]\n",
      "\n",
      " [[164 164 164]\n",
      "  [164 164 164]\n",
      "  [164 164 164]\n",
      "  ...\n",
      "  [168 168 168]\n",
      "  [168 168 168]\n",
      "  [168 168 168]]]\n"
     ]
    }
   ],
   "source": [
    "import cv2\n",
    "import numpy as np\n",
    "\n",
    "img = cv2.imread('./test_image.jpeg')\n",
    "print(img)"
   ]
  },
  {
   "cell_type": "code",
   "execution_count": 2,
   "id": "765da67e",
   "metadata": {},
   "outputs": [
    {
     "data": {
      "text/plain": [
       "(144, 226, 3)"
      ]
     },
     "execution_count": 2,
     "metadata": {},
     "output_type": "execute_result"
    }
   ],
   "source": [
    "img.shape"
   ]
  },
  {
   "cell_type": "code",
   "execution_count": 3,
   "id": "bcb13fa1",
   "metadata": {},
   "outputs": [
    {
     "data": {
      "text/plain": [
       "array([[166, 166, 166, ..., 168, 168, 168],\n",
       "       [166, 166, 166, ..., 168, 168, 168],\n",
       "       [166, 166, 166, ..., 168, 168, 168],\n",
       "       ...,\n",
       "       [164, 164, 164, ..., 168, 168, 168],\n",
       "       [164, 164, 164, ..., 168, 168, 168],\n",
       "       [164, 164, 164, ..., 168, 168, 168]], dtype=uint8)"
      ]
     },
     "execution_count": 3,
     "metadata": {},
     "output_type": "execute_result"
    }
   ],
   "source": [
    "img[:, :, 0]"
   ]
  },
  {
   "cell_type": "code",
   "execution_count": 4,
   "id": "caa49fc7",
   "metadata": {},
   "outputs": [
    {
     "data": {
      "text/plain": [
       "array([[166, 166, 166, ..., 168, 168, 168],\n",
       "       [166, 166, 166, ..., 168, 168, 168],\n",
       "       [166, 166, 166, ..., 168, 168, 168],\n",
       "       ...,\n",
       "       [164, 164, 164, ..., 168, 168, 168],\n",
       "       [164, 164, 164, ..., 168, 168, 168],\n",
       "       [164, 164, 164, ..., 168, 168, 168]], dtype=uint8)"
      ]
     },
     "execution_count": 4,
     "metadata": {},
     "output_type": "execute_result"
    }
   ],
   "source": [
    "img[:, :, 1]"
   ]
  },
  {
   "cell_type": "code",
   "execution_count": 5,
   "id": "e94cb84b",
   "metadata": {},
   "outputs": [
    {
     "data": {
      "text/plain": [
       "array([[166, 166, 166, ..., 168, 168, 168],\n",
       "       [166, 166, 166, ..., 168, 168, 168],\n",
       "       [166, 166, 166, ..., 168, 168, 168],\n",
       "       ...,\n",
       "       [164, 164, 164, ..., 168, 168, 168],\n",
       "       [164, 164, 164, ..., 168, 168, 168],\n",
       "       [164, 164, 164, ..., 168, 168, 168]], dtype=uint8)"
      ]
     },
     "execution_count": 5,
     "metadata": {},
     "output_type": "execute_result"
    }
   ],
   "source": [
    "img[:, :, 2]"
   ]
  },
  {
   "cell_type": "code",
   "execution_count": 6,
   "id": "63230fbd",
   "metadata": {},
   "outputs": [
    {
     "data": {
      "text/plain": [
       "(1599, 899, 3)"
      ]
     },
     "execution_count": 6,
     "metadata": {},
     "output_type": "execute_result"
    }
   ],
   "source": [
    "color_limits = [160, 180]\n",
    "main_img = cv2.imread('./test_image_main.jpeg')\n",
    "main_img.shape"
   ]
  },
  {
   "cell_type": "code",
   "execution_count": 7,
   "id": "98cf7454",
   "metadata": {},
   "outputs": [],
   "source": [
    "alpha_channel = np.ones(shape=(1599, 899, 3))"
   ]
  },
  {
   "cell_type": "code",
   "execution_count": 8,
   "id": "0f807167",
   "metadata": {},
   "outputs": [
    {
     "name": "stdout",
     "output_type": "stream",
     "text": [
      "[[[1. 1. 1.]\n",
      "  [1. 1. 1.]\n",
      "  [1. 1. 1.]\n",
      "  ...\n",
      "  [1. 1. 1.]\n",
      "  [1. 1. 1.]\n",
      "  [1. 1. 1.]]\n",
      "\n",
      " [[1. 1. 1.]\n",
      "  [1. 1. 1.]\n",
      "  [1. 1. 1.]\n",
      "  ...\n",
      "  [1. 1. 1.]\n",
      "  [1. 1. 1.]\n",
      "  [1. 1. 1.]]\n",
      "\n",
      " [[1. 1. 1.]\n",
      "  [1. 1. 1.]\n",
      "  [1. 1. 1.]\n",
      "  ...\n",
      "  [1. 1. 1.]\n",
      "  [1. 1. 1.]\n",
      "  [1. 1. 1.]]\n",
      "\n",
      " ...\n",
      "\n",
      " [[1. 1. 1.]\n",
      "  [1. 1. 1.]\n",
      "  [1. 1. 1.]\n",
      "  ...\n",
      "  [1. 1. 1.]\n",
      "  [1. 1. 1.]\n",
      "  [1. 1. 1.]]\n",
      "\n",
      " [[1. 1. 1.]\n",
      "  [1. 1. 1.]\n",
      "  [1. 1. 1.]\n",
      "  ...\n",
      "  [0. 0. 0.]\n",
      "  [0. 0. 0.]\n",
      "  [0. 0. 0.]]\n",
      "\n",
      " [[1. 1. 1.]\n",
      "  [1. 1. 1.]\n",
      "  [1. 1. 1.]\n",
      "  ...\n",
      "  [1. 1. 1.]\n",
      "  [1. 1. 1.]\n",
      "  [1. 1. 1.]]]\n",
      "[[[178 179 183]\n",
      "  [179 180 184]\n",
      "  [180 181 185]\n",
      "  ...\n",
      "  [181 184 189]\n",
      "  [181 184 189]\n",
      "  [181 184 189]]\n",
      "\n",
      " [[178 179 183]\n",
      "  [179 180 184]\n",
      "  [180 181 185]\n",
      "  ...\n",
      "  [177 180 185]\n",
      "  [177 180 185]\n",
      "  [177 180 185]]\n",
      "\n",
      " [[178 179 183]\n",
      "  [179 180 184]\n",
      "  [180 181 185]\n",
      "  ...\n",
      "  [176 179 184]\n",
      "  [176 179 184]\n",
      "  [176 179 184]]\n",
      "\n",
      " ...\n",
      "\n",
      " [[ 67  84 140]\n",
      "  [ 71  88 144]\n",
      "  [ 74  91 147]\n",
      "  ...\n",
      "  [155 157 165]\n",
      "  [155 157 165]\n",
      "  [156 158 166]]\n",
      "\n",
      " [[ 70  87 143]\n",
      "  [ 72  89 145]\n",
      "  [ 73  90 146]\n",
      "  ...\n",
      "  [164 166 174]\n",
      "  [164 166 174]\n",
      "  [164 166 174]]\n",
      "\n",
      " [[ 74  91 148]\n",
      "  [ 72  89 146]\n",
      "  [ 71  88 145]\n",
      "  ...\n",
      "  [159 161 169]\n",
      "  [159 161 169]\n",
      "  [159 161 169]]]\n"
     ]
    }
   ],
   "source": [
    "# Masking\n",
    "for i in range(1599):\n",
    "    for j in range(899):\n",
    "        if main_img[i, j, 0] in range(color_limits[0], color_limits[1]) and main_img[i, j, 1] in range(color_limits[0], color_limits[1]) and main_img[i, j, 2] in range(color_limits[0], color_limits[1]):\n",
    "            alpha_channel[i, j, 0] = 0\n",
    "            alpha_channel[i, j, 1] = 0\n",
    "            alpha_channel[i, j, 2] = 0\n",
    "            \n",
    "print(alpha_channel)\n",
    "print(main_img)\n",
    "            "
   ]
  },
  {
   "cell_type": "code",
   "execution_count": 9,
   "id": "65889ff7",
   "metadata": {},
   "outputs": [],
   "source": [
    "new_img = np.multiply(main_img, alpha_channel) + (1-alpha_channel)*0"
   ]
  },
  {
   "cell_type": "code",
   "execution_count": 12,
   "id": "11b927af",
   "metadata": {},
   "outputs": [],
   "source": [
    "for i in range(1599):\n",
    "    for j in range(899):\n",
    "        for k in range(3):\n",
    "            if new_img[i, j, k] > 255:\n",
    "                new_img[i, j, k] = 255\n",
    "                print(255)\n",
    "            elif new_img[i, j, k] < 0:\n",
    "                new_img[i, j, k] = 0\n",
    "                print(0)"
   ]
  },
  {
   "cell_type": "code",
   "execution_count": 36,
   "id": "6eb8015b",
   "metadata": {},
   "outputs": [
    {
     "data": {
      "text/plain": [
       "(3, 3)"
      ]
     },
     "execution_count": 36,
     "metadata": {},
     "output_type": "execute_result"
    }
   ],
   "source": [
    "np.vstack((new_alpha, new_alpha, new_alpha)).shape"
   ]
  },
  {
   "cell_type": "code",
   "execution_count": 34,
   "id": "5e2c67ee",
   "metadata": {},
   "outputs": [],
   "source": [
    "new_alpha = np.expand_dims(alpha_channel, axis=2).shape"
   ]
  },
  {
   "cell_type": "code",
   "execution_count": 1,
   "id": "c3c2e040",
   "metadata": {},
   "outputs": [
    {
     "ename": "NameError",
     "evalue": "name 'new_img' is not defined",
     "output_type": "error",
     "traceback": [
      "\u001b[0;31m---------------------------------------------------------------------------\u001b[0m",
      "\u001b[0;31mNameError\u001b[0m                                 Traceback (most recent call last)",
      "\u001b[0;32m/tmp/ipykernel_38132/465105023.py\u001b[0m in \u001b[0;36m<module>\u001b[0;34m\u001b[0m\n\u001b[0;32m----> 1\u001b[0;31m \u001b[0mnew_img\u001b[0m\u001b[0;34m\u001b[0m\u001b[0;34m\u001b[0m\u001b[0m\n\u001b[0m",
      "\u001b[0;31mNameError\u001b[0m: name 'new_img' is not defined"
     ]
    }
   ],
   "source": [
    "new_img"
   ]
  },
  {
   "cell_type": "code",
   "execution_count": 15,
   "id": "605f5abc",
   "metadata": {},
   "outputs": [],
   "source": [
    "cv2.imshow('Modified', new_img)"
   ]
  },
  {
   "cell_type": "code",
   "execution_count": 17,
   "id": "a18138b9",
   "metadata": {},
   "outputs": [
    {
     "data": {
      "text/plain": [
       "(1599, 899, 3)"
      ]
     },
     "execution_count": 17,
     "metadata": {},
     "output_type": "execute_result"
    }
   ],
   "source": [
    "new_img.shape"
   ]
  },
  {
   "cell_type": "code",
   "execution_count": null,
   "id": "4f21c750",
   "metadata": {},
   "outputs": [],
   "source": []
  },
  {
   "cell_type": "code",
   "execution_count": 16,
   "id": "924096a6",
   "metadata": {},
   "outputs": [
    {
     "ename": "KeyboardInterrupt",
     "evalue": "",
     "output_type": "error",
     "traceback": [
      "\u001b[0;31m---------------------------------------------------------------------------\u001b[0m",
      "\u001b[0;31mKeyboardInterrupt\u001b[0m                         Traceback (most recent call last)",
      "\u001b[0;32m/tmp/ipykernel_38157/1240063654.py\u001b[0m in \u001b[0;36m<module>\u001b[0;34m\u001b[0m\n\u001b[1;32m      1\u001b[0m \u001b[0mcv2\u001b[0m\u001b[0;34m.\u001b[0m\u001b[0mimshow\u001b[0m\u001b[0;34m(\u001b[0m\u001b[0;34m'Modified'\u001b[0m\u001b[0;34m,\u001b[0m \u001b[0mnew_img\u001b[0m\u001b[0;34m)\u001b[0m\u001b[0;34m\u001b[0m\u001b[0;34m\u001b[0m\u001b[0m\n\u001b[1;32m      2\u001b[0m \u001b[0;32mwhile\u001b[0m\u001b[0;34m(\u001b[0m\u001b[0;32mTrue\u001b[0m\u001b[0;34m)\u001b[0m\u001b[0;34m:\u001b[0m\u001b[0;34m\u001b[0m\u001b[0;34m\u001b[0m\u001b[0m\n\u001b[0;32m----> 3\u001b[0;31m     \u001b[0mk\u001b[0m \u001b[0;34m=\u001b[0m \u001b[0mcv2\u001b[0m\u001b[0;34m.\u001b[0m\u001b[0mwaitKey\u001b[0m\u001b[0;34m(\u001b[0m\u001b[0;36m33\u001b[0m\u001b[0;34m)\u001b[0m\u001b[0;34m\u001b[0m\u001b[0;34m\u001b[0m\u001b[0m\n\u001b[0m\u001b[1;32m      4\u001b[0m     \u001b[0;32mif\u001b[0m \u001b[0mk\u001b[0m \u001b[0;34m==\u001b[0m \u001b[0;34m-\u001b[0m\u001b[0;36m1\u001b[0m\u001b[0;34m:\u001b[0m  \u001b[0;31m# if no key was pressed, -1 is returned\u001b[0m\u001b[0;34m\u001b[0m\u001b[0;34m\u001b[0m\u001b[0m\n\u001b[1;32m      5\u001b[0m         \u001b[0;32mcontinue\u001b[0m\u001b[0;34m\u001b[0m\u001b[0;34m\u001b[0m\u001b[0m\n",
      "\u001b[0;31mKeyboardInterrupt\u001b[0m: "
     ]
    }
   ],
   "source": [
    "cv2.imshow('Modified', new_img)\n",
    "while(True):\n",
    "    k = cv2.waitKey(33)\n",
    "    if k == -1:  # if no key was pressed, -1 is returned\n",
    "        continue\n",
    "    else:\n",
    "        break\n",
    "cv2.destroyWindow('img')"
   ]
  },
  {
   "cell_type": "code",
   "execution_count": null,
   "id": "1d25215e",
   "metadata": {},
   "outputs": [],
   "source": []
  }
 ],
 "metadata": {
  "kernelspec": {
   "display_name": "CV",
   "language": "python",
   "name": "cv"
  },
  "language_info": {
   "codemirror_mode": {
    "name": "ipython",
    "version": 3
   },
   "file_extension": ".py",
   "mimetype": "text/x-python",
   "name": "python",
   "nbconvert_exporter": "python",
   "pygments_lexer": "ipython3",
   "version": "3.8.12"
  }
 },
 "nbformat": 4,
 "nbformat_minor": 5
}
